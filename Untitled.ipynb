{
 "cells": [
  {
   "cell_type": "code",
   "execution_count": 22,
   "id": "af4954ad-5b33-478a-8d34-084990e5844c",
   "metadata": {},
   "outputs": [
    {
     "name": "stdout",
     "output_type": "stream",
     "text": [
      "Merged hitters data saved to merged_hitters_final.csv\n",
      "Merged pitchers data saved to merged_pitchers_final.csv\n"
     ]
    }
   ],
   "source": [
    "import pandas as pd\n",
    "\n",
    "# File paths (update these paths with your actual file locations)\n",
    "fa_hitters_data_path = '25_fa_hitters_data.csv'\n",
    "fa_hitters_path = '25_fa_hitters.csv'\n",
    "fa_pitchers_data_path = '25_fa_pitchers_data.csv'\n",
    "fa_pitchers_path = '25_fa_pitchers.csv'\n",
    "output_hitters_path = 'merged_hitters_final.csv'\n",
    "output_pitchers_path = 'merged_pitchers_final.csv'\n",
    "\n",
    "# Load the data\n",
    "fa_hitters_data_df = pd.read_csv(fa_hitters_data_path)\n",
    "fa_hitters_df = pd.read_csv(fa_hitters_path)\n",
    "fa_pitchers_data_df = pd.read_csv(fa_pitchers_data_path)\n",
    "fa_pitchers_df = pd.read_csv(fa_pitchers_path)\n",
    "\n",
    "# Ensure 'playerid' is a string in all dataframes\n",
    "fa_hitters_data_df['playerid'] = fa_hitters_data_df['playerid'].astype(str)\n",
    "fa_hitters_df['playerid'] = fa_hitters_df['playerid'].astype(str)\n",
    "fa_pitchers_data_df['playerid'] = fa_pitchers_data_df['playerid'].astype(str)\n",
    "fa_pitchers_df['playerid'] = fa_pitchers_df['playerid'].astype(str)\n",
    "\n",
    "# Merge the dataframes\n",
    "merged_hitters = pd.merge(fa_hitters_df, fa_hitters_data_df, on='playerid', how='inner')\n",
    "merged_pitchers = pd.merge(fa_pitchers_df, fa_pitchers_data_df, on='playerid', how='inner')\n",
    "\n",
    "# Save the merged dataframes to new CSV files\n",
    "merged_hitters.to_csv(output_hitters_path, index=False)\n",
    "merged_pitchers.to_csv(output_pitchers_path, index=False)\n",
    "\n",
    "print(f\"Merged hitters data saved to {output_hitters_path}\")\n",
    "print(f\"Merged pitchers data saved to {output_pitchers_path}\")\n"
   ]
  },
  {
   "cell_type": "code",
   "execution_count": null,
   "id": "cb265367-0ab6-492e-9cc0-97e561d2eb71",
   "metadata": {},
   "outputs": [],
   "source": []
  },
  {
   "cell_type": "code",
   "execution_count": null,
   "id": "a75c1f85-a1d3-454d-a96a-f61e108c0db4",
   "metadata": {},
   "outputs": [],
   "source": []
  },
  {
   "cell_type": "code",
   "execution_count": null,
   "id": "a4a152e5-4f7a-466d-8ed6-cb08567816ea",
   "metadata": {},
   "outputs": [],
   "source": []
  },
  {
   "cell_type": "code",
   "execution_count": null,
   "id": "b501dfb7-d093-43d8-bc47-56857e03c17f",
   "metadata": {},
   "outputs": [],
   "source": []
  },
  {
   "cell_type": "code",
   "execution_count": null,
   "id": "43ab2d2f-b29d-4833-9e9c-b3ed44e8bbb9",
   "metadata": {},
   "outputs": [],
   "source": []
  }
 ],
 "metadata": {
  "kernelspec": {
   "display_name": "Python 3 (ipykernel)",
   "language": "python",
   "name": "python3"
  },
  "language_info": {
   "codemirror_mode": {
    "name": "ipython",
    "version": 3
   },
   "file_extension": ".py",
   "mimetype": "text/x-python",
   "name": "python",
   "nbconvert_exporter": "python",
   "pygments_lexer": "ipython3",
   "version": "3.12.2"
  }
 },
 "nbformat": 4,
 "nbformat_minor": 5
}
