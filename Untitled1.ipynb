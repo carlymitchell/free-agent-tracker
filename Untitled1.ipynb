{
 "cells": [
  {
   "cell_type": "code",
   "execution_count": 8,
   "id": "cfd8d32f-4eee-45af-b78c-9bd7a1e0a5f8",
   "metadata": {
    "collapsed": true,
    "jupyter": {
     "outputs_hidden": true,
     "source_hidden": true
    },
    "scrolled": true
   },
   "outputs": [
    {
     "name": "stdout",
     "output_type": "stream",
     "text": [
      "  playerid            Name_x   Team    G   PA    H   1B  2B  3B  HR  ...  \\\n",
      "0    10815  Jurickson Profar    SDP  158  668  158  105  29   0  24  ...   \n",
      "1    13590      Jesse Winker  - - -  145  508  109   72  23   0  14  ...   \n",
      "2    15194       Jake Bauers    MIL  117  346   60   37   9   2  12  ...   \n",
      "3    10243    Randal Grichuk    ARI  106  279   74   40  20   2  12  ...   \n",
      "4    15986      Willy Adames    MIL  161  688  153   88  33   0  32  ...   \n",
      "\n",
      "   2024 WAR  Proj WAR  Med Years  Med Total     Med AAV          QO  \\\n",
      "0  4.304333  1.900441        3.0   45000000  15000000.0         NaN   \n",
      "1  1.251512  1.021210        2.0   14000000   7000000.0         NaN   \n",
      "2  0.049150 -0.028937        NaN          0         NaN         NaN   \n",
      "3  1.543187  0.441929        NaN          0         NaN         NaN   \n",
      "4  4.757421  3.894942        6.0  150000000  25000000.0  21050000.0   \n",
      "\n",
      "   Signing Team  Years  Total Salary         AAV  \n",
      "0           ATL    3.0    42000000.0  14000000.0  \n",
      "1           NYM    1.0     7500000.0   7500000.0  \n",
      "2           MIL    1.0           0.0         NaN  \n",
      "3           NaN    NaN           NaN         NaN  \n",
      "4           SFG    7.0   182000000.0  26000000.0  \n",
      "\n",
      "[5 rows x 66 columns]\n"
     ]
    }
   ],
   "source": [
    "import pandas as pd\n",
    "\n",
    "# Load the datasets\n",
    "fa_hitter_data_path = '25_fa_hitter_data.csv'\n",
    "fa_hitters_path = '25_fa_hitters.csv'\n",
    "\n",
    "fa_hitter_data = pd.read_csv(fa_hitter_data_path)\n",
    "fa_hitters = pd.read_csv(fa_hitters_path)\n",
    "\n",
    "# Ensure 'playerid' columns are of the same data type for merging\n",
    "fa_hitter_data['playerid'] = fa_hitter_data['playerid'].astype(str)\n",
    "fa_hitters['playerid'] = fa_hitters['playerid'].astype(str)\n",
    "\n",
    "# Merge datasets on 'playerid' to only include players listed in '25_fa_hitters.csv'\n",
    "merged_data = fa_hitter_data.merge(fa_hitters, on='playerid', how='inner')\n",
    "\n",
    "# Save or inspect the merged data\n",
    "print(merged_data.head())  # Display the first few rows\n",
    "merged_data.to_csv('filtered_free_agent_hitters.csv', index=False)  # Save to a new CSV file"
   ]
  },
  {
   "cell_type": "code",
   "execution_count": 13,
   "id": "9e6bf969-ef22-4381-95e7-aa0cf0d63aa1",
   "metadata": {
    "collapsed": true,
    "jupyter": {
     "outputs_hidden": true,
     "source_hidden": true
    },
    "scrolled": true
   },
   "outputs": [
    {
     "name": "stdout",
     "output_type": "stream",
     "text": [
      "  playerid           Name_x Team  W  L  SV   G  GS     IP        K/9  ...  \\\n",
      "0     1247    Adam Ottavino  NYM  2  2   1  60   0   56.0  11.250002  ...   \n",
      "1     1890       Matt Moore  LAA  5  3   1  51   0   48.1   7.634484  ...   \n",
      "2     2036  Clayton Kershaw  LAD  2  2   0   7   7   30.0   7.200000  ...   \n",
      "3     2520       Lance Lynn  STL  7  4   0  23  23  117.1   8.360796  ...   \n",
      "4     3096    Kenley Jansen  BOS  4  2  27  54   0   54.2  10.207318  ...   \n",
      "\n",
      "   2024 WAR  Proj WAR  Med Years  Med Total     Med AAV  QO  Signing Team  \\\n",
      "0  0.457903  0.226591        NaN          0         NaN NaN           NaN   \n",
      "1 -0.740458  0.012690        NaN          0         NaN NaN           NaN   \n",
      "2  0.639490  1.776574        NaN          0         NaN NaN           NaN   \n",
      "3  1.332106  1.575457        1.0    8000000   8000000.0 NaN           NaN   \n",
      "4  1.421050  0.440925        1.0   12000000  12000000.0 NaN           NaN   \n",
      "\n",
      "   Years  Total Salary  AAV  \n",
      "0    NaN           NaN  NaN  \n",
      "1    NaN           NaN  NaN  \n",
      "2    NaN           NaN  NaN  \n",
      "3    NaN           NaN  NaN  \n",
      "4    NaN           NaN  NaN  \n",
      "\n",
      "[5 rows x 81 columns]\n"
     ]
    }
   ],
   "source": [
    "import pandas as pd\n",
    "\n",
    "# Load the datasets\n",
    "fa_hitter_data_path = '25_fa_pitcher_data.csv'\n",
    "fa_hitters_path = '25_fa_pitchers.csv'\n",
    "\n",
    "fa_hitter_data = pd.read_csv(fa_hitter_data_path)\n",
    "fa_hitters = pd.read_csv(fa_hitters_path)\n",
    "\n",
    "# Ensure 'playerid' columns are of the same data type for merging\n",
    "fa_hitter_data['playerid'] = fa_hitter_data['playerid'].astype(str)\n",
    "fa_hitters['playerid'] = fa_hitters['playerid'].astype(str)\n",
    "\n",
    "# Merge datasets on 'playerid' to only include players listed in '25_fa_hitters.csv'\n",
    "merged_data = fa_hitter_data.merge(fa_hitters, on='playerid', how='inner')\n",
    "\n",
    "# Save or inspect the merged data\n",
    "print(merged_data.head())  # Display the first few rows\n",
    "merged_data.to_csv('filtered_free_agent_pitchers.csv', index=False)  # Save to a new CSV file"
   ]
  },
  {
   "cell_type": "code",
   "execution_count": 19,
   "id": "552c8239-80c0-44ee-976f-6eea00baf20d",
   "metadata": {
    "collapsed": true,
    "jupyter": {
     "outputs_hidden": true,
     "source_hidden": true
    }
   },
   "outputs": [
    {
     "name": "stdout",
     "output_type": "stream",
     "text": [
      "  playerid           Name_x   Team   W   L  SV   G  GS     IP        K/9  ...  \\\n",
      "0     1246        Matt Bush    MIL   0   2   1  12   0   10.1   8.709679  ...   \n",
      "1     1247    Adam Ottavino    NYM   1   7  12  66   0   61.2   9.048650  ...   \n",
      "2     1890       Matt Moore  - - -   5   1   0  50   0   52.2  10.253166  ...   \n",
      "3     1943     Zack Greinke    KCR   2  15   0  30  27  142.1   6.133490  ...   \n",
      "4     2036  Clayton Kershaw    LAD  13   5   0  24  24  131.2   9.364557  ...   \n",
      "\n",
      "   2023 WAR  Proj WAR  Med Years  Med Total     Med AAV  QO  Signing Team  \\\n",
      "0 -0.704496       NaN        NaN          0         NaN NaN           NaN   \n",
      "1 -0.070763       NaN        NaN          0         NaN NaN           NYM   \n",
      "2  0.646787       NaN        1.0    7000000   7000000.0 NaN           LAA   \n",
      "3  1.108584       NaN        1.0    7000000   7000000.0 NaN           NaN   \n",
      "4  2.356888       NaN        1.0   21000000  21000000.0 NaN           LAD   \n",
      "\n",
      "   Years  Total Salary        AAV  \n",
      "0    NaN           NaN        NaN  \n",
      "1    1.0     4500000.0  4500000.0  \n",
      "2    1.0     9000000.0  9000000.0  \n",
      "3    NaN           NaN        NaN  \n",
      "4    2.0    16000000.0  8000000.0  \n",
      "\n",
      "[5 rows x 82 columns]\n"
     ]
    }
   ],
   "source": [
    "import pandas as pd\n",
    "\n",
    "# Load the datasets\n",
    "fa_hitter_data_path = '24_fa_pitcher_data.csv'\n",
    "fa_hitters_path = '24_fa_pitchers.csv'\n",
    "\n",
    "fa_hitter_data = pd.read_csv(fa_hitter_data_path)\n",
    "fa_hitters = pd.read_csv(fa_hitters_path)\n",
    "\n",
    "# Ensure 'playerid' columns are of the same data type for merging\n",
    "fa_hitter_data['playerid'] = fa_hitter_data['playerid'].astype(str)\n",
    "fa_hitters['playerid'] = fa_hitters['playerid'].astype(str)\n",
    "\n",
    "# Merge datasets on 'playerid' to only include players listed in '25_fa_hitters.csv'\n",
    "merged_data = fa_hitter_data.merge(fa_hitters, on='playerid', how='inner')\n",
    "\n",
    "# Save or inspect the merged data\n",
    "print(merged_data.head())  # Display the first few rows\n",
    "merged_data.to_csv('24filtered_free_agent_pitchers.csv', index=False)  # Save to a new CSV file"
   ]
  },
  {
   "cell_type": "code",
   "execution_count": 23,
   "id": "5212ddde-c64b-47e7-b11c-30ae1eb435f3",
   "metadata": {
    "collapsed": true,
    "jupyter": {
     "outputs_hidden": true,
     "source_hidden": true
    },
    "scrolled": true
   },
   "outputs": [
    {
     "name": "stdout",
     "output_type": "stream",
     "text": [
      "  playerid        Name_x Team    G   PA    H  1B  2B  3B  HR  ...  2023 WAR  \\\n",
      "0    15223  Adam Frazier  BAL  141  455   99  63  21   2  13  ...  0.432846   \n",
      "1    13590  Jesse Winker  MIL   61  197   33  27   5   0   1  ... -0.799972   \n",
      "2    14221   Jorge Soler  MIA  137  580  126  66  24   0  36  ...  1.792531   \n",
      "3    11899  Joc Pederson  SFG  121  425   84  52  14   3  15  ...  0.735251   \n",
      "4    12434  Kevin Pillar  ATL   81  206   45  26  10   0   9  ...  0.274687   \n",
      "\n",
      "   Proj WAR  Med Years  Med Total     Med AAV  QO  Signing Team  Years  \\\n",
      "0       NaN        1.0    6000000   6000000.0 NaN           KCR    1.0   \n",
      "1       NaN        NaN          0         NaN NaN           WSN    1.0   \n",
      "2       NaN        3.0   48000000  16000000.0 NaN           SFG    3.0   \n",
      "3       NaN        2.0   24000000  12000000.0 NaN           ARI    1.0   \n",
      "4       NaN        NaN          0         NaN NaN           CHW    1.0   \n",
      "\n",
      "   Total Salary         AAV  \n",
      "0     4500000.0   4500000.0  \n",
      "1     2000000.0   2000000.0  \n",
      "2    42000000.0  12142857.0  \n",
      "3    12500000.0  12500000.0  \n",
      "4      172043.0    172043.0  \n",
      "\n",
      "[5 rows x 67 columns]\n"
     ]
    }
   ],
   "source": [
    "import pandas as pd\n",
    "\n",
    "# Load the datasets\n",
    "fa_hitter_data_path = '24_fa_hitter_data.csv'\n",
    "fa_hitters_path = '24_fa_hitters.csv'\n",
    "\n",
    "fa_hitter_data = pd.read_csv(fa_hitter_data_path)\n",
    "fa_hitters = pd.read_csv(fa_hitters_path)\n",
    "\n",
    "# Ensure 'playerid' columns are of the same data type for merging\n",
    "fa_hitter_data['playerid'] = fa_hitter_data['playerid'].astype(str)\n",
    "fa_hitters['playerid'] = fa_hitters['playerid'].astype(str)\n",
    "\n",
    "# Merge datasets on 'playerid' to only include players listed in '25_fa_hitters.csv'\n",
    "merged_data = fa_hitter_data.merge(fa_hitters, on='playerid', how='inner')\n",
    "\n",
    "# Save or inspect the merged data\n",
    "print(merged_data.head())  # Display the first few rows\n",
    "merged_data.to_csv('24filtered_free_agent_hitters.csv', index=False)  # Save to a new CSV file"
   ]
  },
  {
   "cell_type": "code",
   "execution_count": 25,
   "id": "ac04de9c-df9a-4199-ab3e-5d5abb0e54fc",
   "metadata": {
    "collapsed": true,
    "jupyter": {
     "outputs_hidden": true,
     "source_hidden": true
    },
    "scrolled": true
   },
   "outputs": [
    {
     "name": "stdout",
     "output_type": "stream",
     "text": [
      "  playerid          Name_x Team  W  L  SV   G  GS     IP        K/9  ...  \\\n",
      "0     1157    Tommy Hunter  NYM  0  1   0  18   0   22.1   8.865673  ...   \n",
      "1     1247   Adam Ottavino  NYM  6  3   3  66   0   65.2  10.827413  ...   \n",
      "2     1581  Sean Doolittle  WSN  0  0   0   6   0    5.1  10.125002  ...   \n",
      "3     1890      Matt Moore  TEX  5  2   5  63   0   74.0  10.094596  ...   \n",
      "4     1943    Zack Greinke  KCR  4  9   0  26  26  137.0   4.795620  ...   \n",
      "\n",
      "   2022 WAR  Proj WAR  Med Years  Med Total     Med AAV  QO  Signing Team  \\\n",
      "0 -0.010484       NaN        NaN          0         NaN NaN           NYM   \n",
      "1  1.140953       NaN        1.0    6000000   6000000.0 NaN           NYM   \n",
      "2  0.272601       NaN        NaN          0         NaN NaN           WSN   \n",
      "3  1.349560       NaN        1.0    5000000   5000000.0 NaN           LAA   \n",
      "4  1.938260       NaN        1.0   10000000  10000000.0 NaN           KCR   \n",
      "\n",
      "   Years  Total Salary        AAV  \n",
      "0    1.0      696236.0   696236.0  \n",
      "1    2.0    14500000.0  7250000.0  \n",
      "2    1.0           0.0        NaN  \n",
      "3    1.0     7550000.0  7550000.0  \n",
      "4    1.0     8500000.0  8500000.0  \n",
      "\n",
      "[5 rows x 81 columns]\n"
     ]
    }
   ],
   "source": [
    "import pandas as pd\n",
    "\n",
    "# Load the datasets\n",
    "fa_hitter_data_path = '23_fa_pitcher_data.csv'\n",
    "fa_hitters_path = '23_fa_pitchers.csv'\n",
    "\n",
    "fa_hitter_data = pd.read_csv(fa_hitter_data_path)\n",
    "fa_hitters = pd.read_csv(fa_hitters_path)\n",
    "\n",
    "# Ensure 'playerid' columns are of the same data type for merging\n",
    "fa_hitter_data['playerid'] = fa_hitter_data['playerid'].astype(str)\n",
    "fa_hitters['playerid'] = fa_hitters['playerid'].astype(str)\n",
    "\n",
    "# Merge datasets on 'playerid' to only include players listed in '25_fa_hitters.csv'\n",
    "merged_data = fa_hitter_data.merge(fa_hitters, on='playerid', how='inner')\n",
    "\n",
    "# Save or inspect the merged data\n",
    "print(merged_data.head())  # Display the first few rows\n",
    "merged_data.to_csv('23filtered_free_agent_pitchers.csv', index=False)  # Save to a new CSV file"
   ]
  },
  {
   "cell_type": "code",
   "execution_count": 27,
   "id": "61644f24-c099-43ab-807d-6d831bb494d6",
   "metadata": {
    "collapsed": true,
    "jupyter": {
     "outputs_hidden": true,
     "source_hidden": true
    },
    "scrolled": true
   },
   "outputs": [
    {
     "name": "stdout",
     "output_type": "stream",
     "text": [
      "  playerid          Name_x   Team    G   PA    H  1B  2B  3B  HR  ...  \\\n",
      "0    15487    Victor Reyes    DET   92  336   80  55  19   3   3  ...   \n",
      "1     2396  Carlos Santana  - - -  131  506   87  50  18   0  19  ...   \n",
      "2    11342   Jesús Aguilar  - - -  129  507  109  74  19   0  16  ...   \n",
      "3    11615   Brandon Drury  - - -  138  568  136  75  31   2  28  ...   \n",
      "4     9256      AJ Pollock    CHW  138  527  120  79  26   1  14  ...   \n",
      "\n",
      "   2022 WAR  Proj WAR  Med Years  Med Total     Med AAV  QO  Signing Team  \\\n",
      "0 -0.032499       NaN        NaN          0         NaN NaN           CHW   \n",
      "1  0.864716       NaN        NaN          0         NaN NaN           PIT   \n",
      "2 -0.711734       NaN        NaN          0         NaN NaN           OAK   \n",
      "3  3.119406       NaN        3.0   30000000  10000000.0 NaN           LAA   \n",
      "4  0.534488       NaN        1.0    8000000   8000000.0 NaN           SEA   \n",
      "\n",
      "   Years  Total Salary        AAV  \n",
      "0    1.0           0.0        NaN  \n",
      "1    1.0     6725000.0  6725000.0  \n",
      "2    1.0     3000000.0  3000000.0  \n",
      "3    2.0    17000000.0  8500000.0  \n",
      "4    1.0     7000000.0  7000000.0  \n",
      "\n",
      "[5 rows x 66 columns]\n"
     ]
    }
   ],
   "source": [
    "import pandas as pd\n",
    "\n",
    "# Load the datasets\n",
    "fa_hitter_data_path = '23_fa_hitter_data.csv'\n",
    "fa_hitters_path = '23_fa_hitters.csv'\n",
    "\n",
    "fa_hitter_data = pd.read_csv(fa_hitter_data_path)\n",
    "fa_hitters = pd.read_csv(fa_hitters_path)\n",
    "\n",
    "# Ensure 'playerid' columns are of the same data type for merging\n",
    "fa_hitter_data['playerid'] = fa_hitter_data['playerid'].astype(str)\n",
    "fa_hitters['playerid'] = fa_hitters['playerid'].astype(str)\n",
    "\n",
    "# Merge datasets on 'playerid' to only include players listed in '25_fa_hitters.csv'\n",
    "merged_data = fa_hitter_data.merge(fa_hitters, on='playerid', how='inner')\n",
    "\n",
    "# Save or inspect the merged data\n",
    "print(merged_data.head())  # Display the first few rows\n",
    "merged_data.to_csv('23filtered_free_agent_hitters.csv', index=False)  # Save to a new CSV file"
   ]
  },
  {
   "cell_type": "code",
   "execution_count": 35,
   "id": "05d4ad4c-028b-43a6-b71a-4513540b7127",
   "metadata": {
    "collapsed": true,
    "jupyter": {
     "outputs_hidden": true,
     "source_hidden": true
    }
   },
   "outputs": [
    {
     "name": "stdout",
     "output_type": "stream",
     "text": [
      "  playerid          Name_x   Team  W  L  SV   G  GS    IP        K/9  ...  \\\n",
      "0     1157    Tommy Hunter    NYM  0  0   0   4   1   8.0   6.750000  ...   \n",
      "1     1247   Adam Ottavino    BOS  7  3  11  69   0  62.0  10.306454  ...   \n",
      "2     1514    Oliver Pérez    CLE  0  1   0   5   0   3.2   9.818184  ...   \n",
      "3     1581  Sean Doolittle  - - -  3  1   1  56   0  49.2   9.604029  ...   \n",
      "4     1890      Matt Moore    PHI  2  4   0  24  13  73.0   7.767123  ...   \n",
      "\n",
      "   2021 WAR  Proj WAR  Med Years  Med Total  Med AAV  QO  Signing Team  Years  \\\n",
      "0  0.125356       NaN        NaN          0      NaN NaN           NaN    NaN   \n",
      "1  0.576908       NaN        NaN          0      NaN NaN           NYM    1.0   \n",
      "2  0.079721       NaN        NaN          0      NaN NaN           ARI    1.0   \n",
      "3  0.393074       NaN        NaN          0      NaN NaN           WSN    1.0   \n",
      "4 -0.225216       NaN        NaN          0      NaN NaN           TEX    1.0   \n",
      "\n",
      "   Total Salary        AAV  \n",
      "0           NaN        NaN  \n",
      "1     4000000.0  4000000.0  \n",
      "2       93407.0    93407.0  \n",
      "3     1500000.0  1500000.0  \n",
      "4     2376374.0  2376374.0  \n",
      "\n",
      "[5 rows x 81 columns]\n"
     ]
    }
   ],
   "source": [
    "import pandas as pd\n",
    "\n",
    "# Load the datasets\n",
    "fa_hitter_data_path = '22_fa_pitcher_data.csv'\n",
    "fa_hitters_path = '22_fa_pitchers.csv'\n",
    "\n",
    "fa_hitter_data = pd.read_csv(fa_hitter_data_path)\n",
    "fa_hitters = pd.read_csv(fa_hitters_path)\n",
    "\n",
    "# Ensure 'playerid' columns are of the same data type for merging\n",
    "fa_hitter_data['playerid'] = fa_hitter_data['playerid'].astype(str)\n",
    "fa_hitters['playerid'] = fa_hitters['playerid'].astype(str)\n",
    "\n",
    "# Merge datasets on 'playerid' to only include players listed in '25_fa_hitters.csv'\n",
    "merged_data = fa_hitter_data.merge(fa_hitters, on='playerid', how='inner')\n",
    "\n",
    "# Save or inspect the merged data\n",
    "print(merged_data.head())  # Display the first few rows\n",
    "merged_data.to_csv('22filtered_free_agent_pitchers.csv', index=False)  # Save to a new CSV file"
   ]
  },
  {
   "cell_type": "code",
   "execution_count": 37,
   "id": "3b1393f7-b48d-427b-9f63-dfb04b51d901",
   "metadata": {
    "collapsed": true,
    "jupyter": {
     "outputs_hidden": true,
     "source_hidden": true
    },
    "scrolled": true
   },
   "outputs": [
    {
     "name": "stdout",
     "output_type": "stream",
     "text": [
      "  playerid         Name_x Team    G   PA    H  1B  2B  3B  HR  ...  2021 WAR  \\\n",
      "0    13624   Corey Seager  TEX  123  533  132  81  21   0  30  ...  3.823522   \n",
      "1    12979    Javier Báez  DET   80  289   50  32  12   0   6  ...  4.123919   \n",
      "2    15194    Jake Bauers  MIL  117  346   60  37   9   2  12  ... -0.306991   \n",
      "3    10231  Jose Iglesias  NYM   85  291   91  70  16   1   4  ...  1.783196   \n",
      "4    11899   Joc Pederson  ARI  132  449  101  60  17   1  23  ...  0.299460   \n",
      "\n",
      "   Proj WAR  Med Years  Med Total  Med AAV          QO  Signing Team  Years  \\\n",
      "0       NaN        NaN          0      NaN  18400000.0           TEX   10.0   \n",
      "1       NaN        NaN          0      NaN         NaN           DET    6.0   \n",
      "2       NaN        NaN          0      NaN         NaN           CIN    1.0   \n",
      "3       NaN        NaN          0      NaN         NaN           COL    1.0   \n",
      "4       NaN        NaN          0      NaN         NaN           SFG    1.0   \n",
      "\n",
      "   Total Salary          AAV  \n",
      "0   325000000.0  32500000.00  \n",
      "1   140000000.0  23333333.33  \n",
      "2           0.0          NaN  \n",
      "3     5000000.0   5000000.00  \n",
      "4     6000000.0   6000000.00  \n",
      "\n",
      "[5 rows x 66 columns]\n"
     ]
    }
   ],
   "source": [
    "import pandas as pd\n",
    "\n",
    "# Load the datasets\n",
    "fa_hitter_data_path = '22_fa_hitter_data.csv'\n",
    "fa_hitters_path = '22_fa_hitters.csv'\n",
    "\n",
    "fa_hitter_data = pd.read_csv(fa_hitter_data_path)\n",
    "fa_hitters = pd.read_csv(fa_hitters_path)\n",
    "\n",
    "# Ensure 'playerid' columns are of the same data type for merging\n",
    "fa_hitter_data['playerid'] = fa_hitter_data['playerid'].astype(str)\n",
    "fa_hitters['playerid'] = fa_hitters['playerid'].astype(str)\n",
    "\n",
    "# Merge datasets on 'playerid' to only include players listed in '25_fa_hitters.csv'\n",
    "merged_data = fa_hitter_data.merge(fa_hitters, on='playerid', how='inner')\n",
    "\n",
    "# Save or inspect the merged data\n",
    "print(merged_data.head())  # Display the first few rows\n",
    "merged_data.to_csv('22filtered_free_agent_hitters.csv', index=False)  # Save to a new CSV file"
   ]
  },
  {
   "cell_type": "code",
   "execution_count": null,
   "id": "a2d06907-1769-4ed2-9268-fe402c280129",
   "metadata": {},
   "outputs": [],
   "source": []
  }
 ],
 "metadata": {
  "kernelspec": {
   "display_name": "Python 3 (ipykernel)",
   "language": "python",
   "name": "python3"
  },
  "language_info": {
   "codemirror_mode": {
    "name": "ipython",
    "version": 3
   },
   "file_extension": ".py",
   "mimetype": "text/x-python",
   "name": "python",
   "nbconvert_exporter": "python",
   "pygments_lexer": "ipython3",
   "version": "3.12.2"
  }
 },
 "nbformat": 4,
 "nbformat_minor": 5
}
